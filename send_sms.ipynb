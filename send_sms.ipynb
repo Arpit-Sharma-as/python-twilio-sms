{
 "cells": [
  {
   "cell_type": "code",
   "execution_count": 1,
   "id": "0fa17cd0",
   "metadata": {},
   "outputs": [
    {
     "name": "stdout",
     "output_type": "stream",
     "text": [
      "Message SID: SM28cea856dcf6bf204c4f51afe327cb18\n"
     ]
    }
   ],
   "source": [
    "from twilio.rest import Client\n",
    "\n",
    "\n",
    "account_sid = 'Your unique ID'\n",
    "auth_token = 'Your Auth Token'\n",
    "twilio_phone_number = '+15154172621'\n",
    "\n",
    "\n",
    "recipient_phone_number = '+917351XXXXXX'  \n",
    "\n",
    "\n",
    "message_body = 'Message you wants to check'\n",
    "\n",
    "# Create Twilio client\n",
    "client = Client(account_sid, auth_token)\n",
    "\n",
    "# Send SMS\n",
    "message = client.messages.create(\n",
    "    body=message_body,\n",
    "    from_=twilio_phone_number,\n",
    "    to=recipient_phone_number\n",
    ")\n",
    "\n",
    "# Print the message SID to check if the message was sent successfully\n",
    "print(\"Message SID:\", message.sid)\n"
   ]
  },
  {
   "cell_type": "code",
   "execution_count": null,
   "id": "aed72765",
   "metadata": {},
   "outputs": [],
   "source": []
  }
 ],
 "metadata": {
  "kernelspec": {
   "display_name": "Python 3 (ipykernel)",
   "language": "python",
   "name": "python3"
  },
  "language_info": {
   "codemirror_mode": {
    "name": "ipython",
    "version": 3
   },
   "file_extension": ".py",
   "mimetype": "text/x-python",
   "name": "python",
   "nbconvert_exporter": "python",
   "pygments_lexer": "ipython3",
   "version": "3.9.13"
  }
 },
 "nbformat": 4,
 "nbformat_minor": 5
}
